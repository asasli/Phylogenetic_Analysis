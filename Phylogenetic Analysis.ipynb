{
 "cells": [
  {
   "cell_type": "markdown",
   "metadata": {},
   "source": [
    "# Phylogenetic Analysis\n",
    "\n",
    "## A) COVID-19 COMPLETE GENOME (Greece: Athens)\n",
    "\n",
    "### 1. Extracting the data\n",
    "\n",
    "Data is extracted from [NCBI for VIRUS COVID-19](https://www.ncbi.nlm.nih.gov/labs/virus/vssi/#/virus?SeqType_s=Nucleotide&VirusLineage_ss=Severe%20acute%20respiratory%20syndrome%20coronavirus%202,%20taxid:2697049&Country_s=Greece). The downloaded data concernes Nucleotide (complete genome) of COVID-19 from different patients submitted from Athens, Greece. The accession numbers which are to be used for the fylogenetic analysis are\n",
    "* MT459832\n",
    "* MT459833\n",
    "* MT459834\n",
    "* MT459835\n",
    "* MT459836"
   ]
  },
  {
   "cell_type": "code",
   "execution_count": 1,
   "metadata": {},
   "outputs": [],
   "source": [
    "COVID_GREECE=open('sequences.fasta',\"r\")\n",
    "#data=COVID_GREECE.read()\n",
    "#print(data)\n",
    "\n",
    "#construction of a matrix for the five different sequences\n",
    "matrix = [[], [], [], [], []]\n",
    "for x in range(5): \n",
    "    line = COVID_GREECE.readline()\n",
    "    while True:\n",
    "        char = COVID_GREECE.read(1)\n",
    "        if char == '>' or char =='': #define the new seq\n",
    "            break\n",
    "        if (char !='\\n' and char !='\\r') :\n",
    "            matrix[x].append(char)\n",
    "            \n"
   ]
  },
  {
   "cell_type": "markdown",
   "metadata": {},
   "source": [
    "### 2. Compute the distance between the sequences\n",
    "\n",
    "*Assumptions *\n",
    "* No coding parts are included\n",
    "* Jukes-Cantor model: real distance is given by the form $d=-\\frac{3}{4}ln\\left(1-\\frac{4}{3}D\\right)$\n",
    "* D is the observed distance D=$\\frac{miss-matches}{length\\quad of\\quad the\\quad sequence}$ "
   ]
  },
  {
   "cell_type": "code",
   "execution_count": 2,
   "metadata": {},
   "outputs": [],
   "source": [
    "import string\n",
    "\n",
    "def observed_distance(matrix):\n",
    "    length=len(matrix[1]) #the length of the sequence\n",
    "    N=len(matrix)         #number of seq\n",
    "    \n",
    "    distance = [[0 for x in range(N)] for x in range(N)]\n",
    "\n",
    "    for i in range(0,N):\n",
    "        for j in range(i+1,N):\n",
    "            mismatch=0\n",
    "            #find the number of the different bases between the sequences\n",
    "            for z in range(0,length):\n",
    "                if(matrix[i][z]!=matrix[j][z]): #between the same seq the distance is 0\n",
    "                    mismatch+=1\n",
    "            #matrix construction of this form:\n",
    "            # /   A          B        C       D         E\n",
    "            # A   0        D(A,B)   D(A,C)   D(A,D)   D(A,E)\n",
    "            # B   D(A,B)     0      D(B,C)   D(B,D)   D(B,E)\n",
    "            # C   D(A,C)   D(B,C)     0      D(C,D)   D(C,E)\n",
    "            # D   D(A,D)   D(B,D)   D(C,D)     0      D(D,E) \n",
    "            # E   D(A,E)   D(B,E)   D(C,E)   D(D,E)     0\n",
    "            \n",
    "            distance[i][j]=mismatch/length\n",
    "            distance[j][i]=mismatch/length\n",
    "            \n",
    "    return distance\n",
    "\n",
    "import numpy as np\n",
    "\n",
    "def real_distance(obs_dist):\n",
    "    N=len(obs_dist)\n",
    "    \n",
    "            #matrix construction of this form:\n",
    "            # /   A          B        C       D         E\n",
    "            # A   0        D(A,B)   D(A,C)   D(A,D)   D(A,E)\n",
    "            # B   0          0      D(B,C)   D(B,D)   D(B,E)\n",
    "            # C   0          0        0      D(C,D)   D(C,E)\n",
    "            # D   0          0        0        0      D(D,E) \n",
    "            # E   0          0        0        0        0\n",
    "            \n",
    "    d = [[0 for x in range(N)] for x in range(N)]\n",
    "    for i in range(0,N):\n",
    "        for j in range(i+1,N):\n",
    "            d[i][j]=-3/4*np.log(1-4/3*obs_dist[i][j])\n",
    "            \n",
    "    return d"
   ]
  },
  {
   "cell_type": "code",
   "execution_count": 3,
   "metadata": {},
   "outputs": [],
   "source": [
    "obs_dist=observed_distance(matrix)       \n",
    "real_dist=real_distance(obs_dist) "
   ]
  },
  {
   "cell_type": "markdown",
   "metadata": {},
   "source": [
    "As you can see there is not important difference between the real and the observed distance, since we have include no coding parts (complete genome) and also there wasn't enough time in the evolution history for this case."
   ]
  },
  {
   "cell_type": "code",
   "execution_count": 4,
   "metadata": {},
   "outputs": [
    {
     "data": {
      "text/plain": [
       "[[0,\n",
       "  0.0007717430888536821,\n",
       "  0.00023479427740956833,\n",
       "  0.0004025494897042292,\n",
       "  0.0004025494897042292],\n",
       " [0, 0, 0.0006039052866046445, 0.0011747071228148484, 0.0007717430888536821],\n",
       " [0, 0, 0, 0.0005703422328086179, 0.00023479427740956833],\n",
       " [0, 0, 0, 0, 0.0008053151568986336],\n",
       " [0, 0, 0, 0, 0]]"
      ]
     },
     "execution_count": 4,
     "metadata": {},
     "output_type": "execute_result"
    }
   ],
   "source": [
    "real_dist"
   ]
  },
  {
   "cell_type": "code",
   "execution_count": 5,
   "metadata": {},
   "outputs": [
    {
     "data": {
      "text/plain": [
       "[[0,\n",
       "  0.0007713461667449192,\n",
       "  0.00023475752900932323,\n",
       "  0.000402441478301697,\n",
       "  0.000402441478301697],\n",
       " [0.0007713461667449192,\n",
       "  0,\n",
       "  0.0006036622174525455,\n",
       "  0.001173787645046616,\n",
       "  0.0007713461667449192],\n",
       " [0.00023475752900932323,\n",
       "  0.0006036622174525455,\n",
       "  0,\n",
       "  0.0005701254275940707,\n",
       "  0.00023475752900932323],\n",
       " [0.000402441478301697,\n",
       "  0.001173787645046616,\n",
       "  0.0005701254275940707,\n",
       "  0,\n",
       "  0.000804882956603394],\n",
       " [0.000402441478301697,\n",
       "  0.0007713461667449192,\n",
       "  0.00023475752900932323,\n",
       "  0.000804882956603394,\n",
       "  0]]"
      ]
     },
     "execution_count": 5,
     "metadata": {},
     "output_type": "execute_result"
    }
   ],
   "source": [
    "obs_dist"
   ]
  },
  {
   "cell_type": "markdown",
   "metadata": {},
   "source": [
    "### 3. Estimate the Phylogenetic Tree\n",
    "We use the UPGMA method:\n",
    " 1. Find the minimum value for the distance D[i,j].\n",
    " \n",
    " 2. Merge sequences i and j.\n",
    " \n",
    " 3. Let x denote the node with wich i, j are conected. Setting L=D[i,j]/2 ensures that elements i and j are equidistant from x.\n",
    " \n",
    " 4. Update the initial distances D. The new matrix has $(N-1)^2$ values and the elements i,j have been replaced by the node x. The new distance between the node x and the others sequences (s) is calculated as $D'[s,x]=\\frac{D[i,s]+D[j,s]}{2}$.\n",
    " \n",
    " 5. Repeat.\n",
    "\n",
    " "
   ]
  },
  {
   "cell_type": "code",
   "execution_count": 6,
   "metadata": {},
   "outputs": [],
   "source": [
    "def UPGMA(dist,N):\n",
    "    \n",
    "    nodes = [0 for x in range(N-1)] #N-2 = number of nodes\n",
    "    branch = [0 for x in range(N-1)] #branches = nodes+1\n",
    "    \n",
    "    #Function for the minimum value and the corresponding indeces\n",
    "    def find_min(matrix,rows,columns):\n",
    "        minimum = 100 #arbitanary large number\n",
    "        minr,minc = 0,0\n",
    "        for i in range(0,rows): #the last row has the names of the seq/nodes\n",
    "            for j in range(0,columns):\n",
    "                if matrix[i][j] < minimum and matrix[i][j] != 0.0 :\n",
    "                    minimum = matrix[i][j] #minimum value\n",
    "                    minr,minc = i,j        #indeces corresponding to the minimum value\n",
    "        return minr,minc,minimum\n",
    "    \n",
    "    #Calculating the new matrix\n",
    "    def new_matrix(matrix,N):\n",
    "\n",
    "        #Step 1\n",
    "        minr,minc,minimum = find_min(matrix,N-1,N)\n",
    "        \n",
    "        #Step 3\n",
    "        node = '('+matrix[N-1][minr]+','+matrix[N-1][minc]+')' #node x from step 3\n",
    "        L = minimum/2 #L from step 3\n",
    "        \n",
    "        #update the values: step 4\n",
    "        for i in range(0,N-1):\n",
    "            if matrix[i][minr] != 0 and matrix[i][minr] != minimum:\n",
    "                new_val = (matrix[i][minr]+ matrix[i][minc])/2\n",
    "                matrix[i][minr] = new_val\n",
    "\n",
    "        #Step 2\n",
    "        matrix[N-1][minr] = node #replace the element i with the node\n",
    "        matrix[minr][minr] = 0\n",
    "        \n",
    "        #delete = replace value/name with zero\n",
    "        #delete column\n",
    "        for i in range(0,N-1):\n",
    "            matrix[i][minc] = 0.0\n",
    "        #delete rows\n",
    "        if minc != N-1:\n",
    "            for i in range(0,N):\n",
    "                matrix[minc][i] = 0.0\n",
    "\n",
    "\n",
    "        print (node)\n",
    "        print (\"Branch Length Estimation: \",L)\n",
    "        print (\"\\n\")\n",
    "        \n",
    "        return matrix,node,L\n",
    "\n",
    "    #Step 5\n",
    "    for n in range(0,N-1):\n",
    "        matrix_new,node,L=new_matrix(dist,N)\n",
    "        nodes[n] = node\n",
    "        branch[n] = L\n",
    "        \n",
    "    return matrix_new,nodes,branch"
   ]
  },
  {
   "cell_type": "code",
   "execution_count": 7,
   "metadata": {},
   "outputs": [],
   "source": [
    "N=len(real_dist)\n",
    "for i in range(0,N):\n",
    "        real_dist[N-1][i]=string.ascii_uppercase[i]"
   ]
  },
  {
   "cell_type": "code",
   "execution_count": 8,
   "metadata": {},
   "outputs": [
    {
     "name": "stdout",
     "output_type": "stream",
     "text": [
      "(A,C)\n",
      "Branch Length Estimation:  0.00011739713870478416\n",
      "\n",
      "\n",
      "((A,C),D)\n",
      "Branch Length Estimation:  0.0002012747448521146\n",
      "\n",
      "\n",
      "(((A,C),D),E)\n",
      "Branch Length Estimation:  0.0002012747448521146\n",
      "\n",
      "\n",
      "((((A,C),D),E),B)\n",
      "Branch Length Estimation:  0.00038587154442684104\n",
      "\n",
      "\n"
     ]
    }
   ],
   "source": [
    "new_matrix,nodes,branch=UPGMA(real_dist,N)"
   ]
  },
  {
   "cell_type": "code",
   "execution_count": 9,
   "metadata": {},
   "outputs": [
    {
     "data": {
      "text/plain": [
       "['(A,C)', '((A,C),D)', '(((A,C),D),E)', '((((A,C),D),E),B)']"
      ]
     },
     "execution_count": 9,
     "metadata": {},
     "output_type": "execute_result"
    }
   ],
   "source": [
    "nodes"
   ]
  },
  {
   "cell_type": "code",
   "execution_count": 10,
   "metadata": {},
   "outputs": [
    {
     "data": {
      "text/plain": [
       "[0.00011739713870478416,\n",
       " 0.0002012747448521146,\n",
       " 0.0002012747448521146,\n",
       " 0.00038587154442684104]"
      ]
     },
     "execution_count": 10,
     "metadata": {},
     "output_type": "execute_result"
    }
   ],
   "source": [
    "branch"
   ]
  },
  {
   "cell_type": "markdown",
   "metadata": {},
   "source": [
    "### 4. Draw the Phylogenetic Tree"
   ]
  },
  {
   "cell_type": "code",
   "execution_count": 11,
   "metadata": {},
   "outputs": [],
   "source": [
    "stracture=''+nodes[N-2]+';'"
   ]
  },
  {
   "cell_type": "code",
   "execution_count": 12,
   "metadata": {},
   "outputs": [
    {
     "name": "stdout",
     "output_type": "stream",
     "text": [
      "\n",
      "            /-A\n",
      "         /-|\n",
      "      /-|   \\-C\n",
      "     |  |\n",
      "   /-|   \\-D\n",
      "  |  |\n",
      "--|   \\-E\n",
      "  |\n",
      "   \\-B\n"
     ]
    }
   ],
   "source": [
    "#!pip install ete3\n",
    "from ete3 import Tree\n",
    "t = Tree( stracture )\n",
    "\n",
    "print(t)\n"
   ]
  },
  {
   "cell_type": "markdown",
   "metadata": {},
   "source": [
    "## B) Prostaglandin Synthesis\n",
    "\n",
    "Data:\n",
    "* [Bos Taurus (Cow)](https://www.ncbi.nlm.nih.gov/nuccore/198282106)\n",
    "* [Ovis aries(Sheep)](https://www.ncbi.nlm.nih.gov/nuccore/57164168)\n",
    "* [Rattus norvegicus (Rat)](https://www.ncbi.nlm.nih.gov/nuccore/415637)\n",
    "* [Xenopus laevis(Frog)](https://www.ncbi.nlm.nih.gov/nuccore/117307525)\n",
    "* [Mesochaetopterus taylori ((Marine worm)](https://www.ncbi.nlm.nih.gov/nuccore/933798131)\n",
    "* [Sus scrofa (Wild pig)](https://www.ncbi.nlm.nih.gov/nuccore/AJ001201.1)"
   ]
  },
  {
   "cell_type": "code",
   "execution_count": 13,
   "metadata": {},
   "outputs": [],
   "source": [
    "prostaglandin=open('prostaglandin.txt',\"r\")\n",
    "\n",
    "#construction of a matrix for the five different sequences\n",
    "matrix = [[], [], [], [], [], []]\n",
    "for x in range(6): \n",
    "    line = prostaglandin.readline()\n",
    "    while True:\n",
    "        char = prostaglandin.read(1)\n",
    "        if char == '>' or char =='': #define the new seq\n",
    "            break\n",
    "        if (char !='\\n' and char !='\\r') :\n",
    "            matrix[x].append(char)\n",
    "            "
   ]
  },
  {
   "cell_type": "markdown",
   "metadata": {},
   "source": [
    "Step 2: Compute Distance "
   ]
  },
  {
   "cell_type": "code",
   "execution_count": 14,
   "metadata": {},
   "outputs": [],
   "source": [
    "obs_dist=observed_distance(matrix)       \n",
    "real_dist=real_distance(obs_dist) "
   ]
  },
  {
   "cell_type": "markdown",
   "metadata": {},
   "source": [
    "Step 3: Estimate Phylogenetic Tree"
   ]
  },
  {
   "cell_type": "code",
   "execution_count": 15,
   "metadata": {},
   "outputs": [],
   "source": [
    "N=len(real_dist)\n",
    "real_dist[N-1][0]='Cow'\n",
    "real_dist[N-1][1]='Sheep'\n",
    "real_dist[N-1][2]='Worm'\n",
    "real_dist[N-1][3]='Rat'\n",
    "real_dist[N-1][4]='Frog'\n",
    "real_dist[N-1][5]='Pig'"
   ]
  },
  {
   "cell_type": "code",
   "execution_count": 16,
   "metadata": {},
   "outputs": [
    {
     "name": "stdout",
     "output_type": "stream",
     "text": [
      "(Cow,Sheep)\n",
      "Branch Length Estimation:  0.014573783032793972\n",
      "\n",
      "\n",
      "((Cow,Sheep),Pig)\n",
      "Branch Length Estimation:  0.04722415892008058\n",
      "\n",
      "\n",
      "(((Cow,Sheep),Pig),Rat)\n",
      "Branch Length Estimation:  0.09545733130194908\n",
      "\n",
      "\n",
      "((((Cow,Sheep),Pig),Rat),Frog)\n",
      "Branch Length Estimation:  0.2276360969257573\n",
      "\n",
      "\n",
      "(((((Cow,Sheep),Pig),Rat),Frog),Worm)\n",
      "Branch Length Estimation:  0.5413867683955758\n",
      "\n",
      "\n"
     ]
    }
   ],
   "source": [
    "new_matrix,nodes,branch=UPGMA(real_dist,N)"
   ]
  },
  {
   "cell_type": "markdown",
   "metadata": {},
   "source": [
    "Step 4: Draw the Phylogenetic Tree"
   ]
  },
  {
   "cell_type": "code",
   "execution_count": 17,
   "metadata": {},
   "outputs": [
    {
     "name": "stdout",
     "output_type": "stream",
     "text": [
      "\n",
      "               /-Cow\n",
      "            /-|\n",
      "         /-|   \\-Sheep\n",
      "        |  |\n",
      "      /-|   \\-Pig\n",
      "     |  |\n",
      "   /-|   \\-Rat\n",
      "  |  |\n",
      "--|   \\-Frog\n",
      "  |\n",
      "   \\-Worm\n"
     ]
    }
   ],
   "source": [
    "stracture=''+nodes[N-2]+';'\n",
    "t = Tree( stracture )\n",
    "\n",
    "print(t)\n"
   ]
  }
 ],
 "metadata": {
  "kernelspec": {
   "display_name": "Python 3",
   "language": "python",
   "name": "python3"
  },
  "language_info": {
   "codemirror_mode": {
    "name": "ipython",
    "version": 3
   },
   "file_extension": ".py",
   "mimetype": "text/x-python",
   "name": "python",
   "nbconvert_exporter": "python",
   "pygments_lexer": "ipython3",
   "version": "3.8.5"
  }
 },
 "nbformat": 4,
 "nbformat_minor": 4
}
